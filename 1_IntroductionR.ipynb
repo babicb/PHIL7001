{
  "nbformat": 4,
  "nbformat_minor": 0,
  "metadata": {
    "colab": {
      "provenance": []
    },
    "kernelspec": {
      "name": "ir",
      "display_name": "R"
    },
    "language_info": {
      "name": "R"
    }
  },
  "cells": [
    {
      "cell_type": "markdown",
      "source": [
        "<font size=\"5\">**Introduction to Statistical Computing: R and RStudio**</font>"
      ],
      "metadata": {
        "id": "aX13yz6s3_dI"
      }
    },
    {
      "cell_type": "markdown",
      "source": [
        "In this session, we'll be diving into the fascinating world of R, a powerful language designed for statistical computing and graphics. R is widely used in both academia and industry due to its robustness in handling and analyzing data, and its extensive packages ecosystem.\n",
        "\n",
        "In this notebook, we'll go from using R for basic calculations to creating and manipulating complex data structures. By the end, you'll have the foundational skills to handle data and create simple visualizations in R, preparing you for more advanced topics in data science and machine learning. Let's embark on this journey into R!"
      ],
      "metadata": {
        "id": "PW4lTeGR0-YD"
      }
    },
    {
      "cell_type": "markdown",
      "source": [
        "<font size=\"4\">**1.Installing R and Rstudio**</font>"
      ],
      "metadata": {
        "id": "KoXLc4K4-sgE"
      }
    },
    {
      "cell_type": "markdown",
      "source": [
        "Before we start coding in R, it's essential to have the right tools installed on your computer. You will need two primary tools: R and RStudio."
      ],
      "metadata": {
        "id": "M-WP_-TX-1wA"
      }
    },
    {
      "cell_type": "markdown",
      "source": [
        "\n",
        "\n",
        "*   **R**: To download R, navigate to the Comprehensive R Archive Network, or CRAN, at https://cloud.r-project.org. CRAN offers tailored versions of R for various operating systems including Windows, Mac, and Linux, ensuring broad accessibility. For the purposes of this course, we recommend using R version 4.2.0 or later.\n",
        "*   **RStudio**: This is an Integrated Development Environment (IDE) for R. It provides a user-friendly interface and powerful tools for using R. It can be downloaded from https://posit.co/download/rstudio-desktop/. RStudio is basically the way you will interact with R!\n",
        "\n"
      ],
      "metadata": {
        "id": "gnFGJfVH_4LC"
      }
    },
    {
      "cell_type": "markdown",
      "source": [
        "<font size=\"4\">**2.Getting started with R**</font>"
      ],
      "metadata": {
        "id": "R50qOaYWByOB"
      }
    },
    {
      "cell_type": "markdown",
      "source": [
        "R is a powerful language for statistical computing, modeling, data analysis, and graphics. The first thing we want to do is understand how to set up our working directory. In R, the working directory is the folder where R will look for and save files by default."
      ],
      "metadata": {
        "id": "h_p2-wxICFC_"
      }
    },
    {
      "cell_type": "code",
      "source": [
        "# Get current working directory\n",
        "getwd()\n",
        "\n",
        "# Set a new working directory\n",
        "# setwd(\"/path/to/your/working/directory\")\n",
        "# setwd(\"/Users/borisbabic/Documents\")\n"
      ],
      "metadata": {
        "colab": {
          "base_uri": "https://localhost:8080/",
          "height": 34
        },
        "id": "CQZJJy4J34JS",
        "outputId": "8812b83f-4c39-4f31-98ce-c831f7a6a060"
      },
      "execution_count": null,
      "outputs": [
        {
          "output_type": "display_data",
          "data": {
            "text/html": [
              "'/content'"
            ],
            "text/markdown": "'/content'",
            "text/latex": "'/content'",
            "text/plain": [
              "[1] \"/content\""
            ]
          },
          "metadata": {}
        }
      ]
    },
    {
      "cell_type": "markdown",
      "source": [
        "**Installing R packages**"
      ],
      "metadata": {
        "id": "jL8PoU1dacBM"
      }
    },
    {
      "cell_type": "markdown",
      "source": [
        "Packages are collections of R functions, data, and compiled code. They offer ready-made solutions to perform specific tasks. Here, we'll install the `ggplot2` package with the `install.packages()` function and load the package with `library()`.\n",
        "\n",
        "Note that once you have successfully installed an R package, you don't need to install it again on the same local computer or server unless you update or remove it. However, to use the functions, data, and other features provided by a specific R package, you need to load the package into your R session each time you start a new R session."
      ],
      "metadata": {
        "id": "ZJHGxiGEashi"
      }
    },
    {
      "cell_type": "code",
      "source": [
        "# Installing a package\n",
        "install.packages('ggplot2')\n"
      ],
      "metadata": {
        "colab": {
          "base_uri": "https://localhost:8080/"
        },
        "id": "X_kc7L40ayE9",
        "outputId": "2463db30-c15c-4340-ad6f-70dbd4fde3a8"
      },
      "execution_count": null,
      "outputs": [
        {
          "output_type": "stream",
          "name": "stderr",
          "text": [
            "Installing package into ‘/usr/local/lib/R/site-library’\n",
            "(as ‘lib’ is unspecified)\n",
            "\n"
          ]
        }
      ]
    },
    {
      "cell_type": "code",
      "source": [
        "# Loading a package\n",
        "library(ggplot2)"
      ],
      "metadata": {
        "id": "snwqazBCbshK"
      },
      "execution_count": null,
      "outputs": []
    },
    {
      "cell_type": "markdown",
      "source": [
        "<font size=\"4\">**3.Data Types in R**</font>"
      ],
      "metadata": {
        "id": "rrcPDNRsJKO8"
      }
    },
    {
      "cell_type": "markdown",
      "source": [
        "R supports several data types, also known as classes. These include:\n",
        "\n",
        "*   **Numeric**: This is the default computational data type. If a number has a decimal point, R will interpret it as a numeric value.\n",
        "*   **Integer**: These are whole numbers without decimal points, e.g. 1L, 2L, 3L. The 'L' tells R to store this number as an integer.\n",
        "*   **Character**: These are text strings, e.g. \"Hello\", \"World\".\n",
        "*   **Logical**: These are Boolean values, i.e., TRUE or FALSE.\n",
        "\n",
        "Let's play around with some of these classes. In R, `class()` is a function that can help us to check the data type."
      ],
      "metadata": {
        "id": "q2Ita1tTJPab"
      }
    },
    {
      "cell_type": "code",
      "source": [
        "# Use class() function to check the data type\n",
        "\n",
        "# Numeric\n",
        "class(1.23)"
      ],
      "metadata": {
        "colab": {
          "base_uri": "https://localhost:8080/",
          "height": 34
        },
        "id": "f1oaWhUjJP3M",
        "outputId": "e0e821a4-ec4a-4799-bda2-1ec48ad16f17"
      },
      "execution_count": null,
      "outputs": [
        {
          "output_type": "display_data",
          "data": {
            "text/html": [
              "'numeric'"
            ],
            "text/markdown": "'numeric'",
            "text/latex": "'numeric'",
            "text/plain": [
              "[1] \"numeric\""
            ]
          },
          "metadata": {}
        }
      ]
    },
    {
      "cell_type": "code",
      "source": [
        "# Integer The suffix ‘L’ is used to specify a numeric value as an integer explicitly.\n",
        "class(1L)"
      ],
      "metadata": {
        "colab": {
          "base_uri": "https://localhost:8080/",
          "height": 34
        },
        "id": "wXr_pYVxKLss",
        "outputId": "9e741d1e-4dd2-4a53-9879-90e3ed1c1dce"
      },
      "execution_count": null,
      "outputs": [
        {
          "output_type": "display_data",
          "data": {
            "text/html": [
              "'integer'"
            ],
            "text/markdown": "'integer'",
            "text/latex": "'integer'",
            "text/plain": [
              "[1] \"integer\""
            ]
          },
          "metadata": {}
        }
      ]
    },
    {
      "cell_type": "code",
      "source": [
        "# Character\n",
        "class(\"Hello\")"
      ],
      "metadata": {
        "colab": {
          "base_uri": "https://localhost:8080/",
          "height": 34
        },
        "id": "MwhsC8JYJ3TS",
        "outputId": "7c700353-7bb8-4ead-9221-e5df88d8feb1"
      },
      "execution_count": null,
      "outputs": [
        {
          "output_type": "display_data",
          "data": {
            "text/html": [
              "'character'"
            ],
            "text/markdown": "'character'",
            "text/latex": "'character'",
            "text/plain": [
              "[1] \"character\""
            ]
          },
          "metadata": {}
        }
      ]
    },
    {
      "cell_type": "code",
      "source": [
        "# Logical\n",
        "class(TRUE)"
      ],
      "metadata": {
        "colab": {
          "base_uri": "https://localhost:8080/",
          "height": 34
        },
        "id": "sWNdQ9WhKaQo",
        "outputId": "5a60dd9e-10f3-4670-dec4-d54b9c891257"
      },
      "execution_count": null,
      "outputs": [
        {
          "output_type": "display_data",
          "data": {
            "text/html": [
              "'logical'"
            ],
            "text/markdown": "'logical'",
            "text/latex": "'logical'",
            "text/plain": [
              "[1] \"logical\""
            ]
          },
          "metadata": {}
        }
      ]
    },
    {
      "cell_type": "markdown",
      "source": [
        "<font size=\"4\">**4.Using R as a Calculator**</font>"
      ],
      "metadata": {
        "id": "-gdQsFLIDiDc"
      }
    },
    {
      "cell_type": "markdown",
      "source": [
        "R comes with a suite of built-in functions readily available for your use. These include basic arithmetic functions which we'll explore first to familiarize ourselves with the R environment. Let's give them a try!\n",
        "\n",
        "Execute the following code chunk and observe how R performs these simple calculations:"
      ],
      "metadata": {
        "id": "979IXVhXEtv9"
      }
    },
    {
      "cell_type": "code",
      "source": [
        "# Addition\n",
        "5 + 3\n",
        "\n",
        "# or sum()\n",
        "sum(5,3)"
      ],
      "metadata": {
        "colab": {
          "base_uri": "https://localhost:8080/",
          "height": 34
        },
        "id": "QT7italYEvds",
        "outputId": "0dabc473-3b11-474e-c32a-786ea2320276"
      },
      "execution_count": null,
      "outputs": [
        {
          "output_type": "display_data",
          "data": {
            "text/html": [
              "8"
            ],
            "text/markdown": "8",
            "text/latex": "8",
            "text/plain": [
              "[1] 8"
            ]
          },
          "metadata": {}
        }
      ]
    },
    {
      "cell_type": "code",
      "source": [
        "# Subtraction\n",
        "10 - 7"
      ],
      "metadata": {
        "id": "m9Scpf5-FaFG"
      },
      "execution_count": null,
      "outputs": []
    },
    {
      "cell_type": "code",
      "source": [
        "# Multiplication\n",
        "3 * 2"
      ],
      "metadata": {
        "id": "nLzUUgLtFcLU"
      },
      "execution_count": null,
      "outputs": []
    },
    {
      "cell_type": "code",
      "source": [
        "# Division\n",
        "15 / 3"
      ],
      "metadata": {
        "id": "U-H50sPCFfL9"
      },
      "execution_count": null,
      "outputs": []
    },
    {
      "cell_type": "code",
      "source": [
        "# Exponentiation\n",
        "2 ^ 5"
      ],
      "metadata": {
        "colab": {
          "base_uri": "https://localhost:8080/",
          "height": 34
        },
        "id": "FskUdweTFhzo",
        "outputId": "ed280f93-4f5a-4e11-dd40-bc52c7ff8ba5"
      },
      "execution_count": null,
      "outputs": [
        {
          "output_type": "display_data",
          "data": {
            "text/html": [
              "32"
            ],
            "text/markdown": "32",
            "text/latex": "32",
            "text/plain": [
              "[1] 32"
            ]
          },
          "metadata": {}
        }
      ]
    },
    {
      "cell_type": "code",
      "source": [
        "# Rounds the input to the desired digit\n",
        "round(3.183, 1)"
      ],
      "metadata": {
        "colab": {
          "base_uri": "https://localhost:8080/",
          "height": 34
        },
        "id": "Do15Ffd1Gsfv",
        "outputId": "9d078cd3-c5ef-4110-99c4-2a46b806f007"
      },
      "execution_count": null,
      "outputs": [
        {
          "output_type": "display_data",
          "data": {
            "text/html": [
              "3.2"
            ],
            "text/markdown": "3.2",
            "text/latex": "3.2",
            "text/plain": [
              "[1] 3.2"
            ]
          },
          "metadata": {}
        }
      ]
    },
    {
      "cell_type": "code",
      "source": [
        "# Print the results\n",
        "print(2^5)\n",
        "\n",
        "# You can also print text\n",
        "print('Hello World!')"
      ],
      "metadata": {
        "colab": {
          "base_uri": "https://localhost:8080/"
        },
        "id": "v6PhljIcHEzm",
        "outputId": "700964b5-22fa-4b1b-8c02-d66281d03e37"
      },
      "execution_count": null,
      "outputs": [
        {
          "output_type": "stream",
          "name": "stdout",
          "text": [
            "[1] 32\n",
            "[1] \"Hello World!\"\n"
          ]
        }
      ]
    },
    {
      "cell_type": "markdown",
      "source": [
        "There are some additional examples of functions that R knows:\n",
        "*   `log()`: computes logarithms\n",
        "*   `sqrt()`: takes the square root\n",
        "*   `abs()`: returns the absolute value\n",
        "*   `sin()`: returns the sine\n",
        "*   `cos()`: returns the cosine\n",
        "*   `tan()`: returns the tangent"
      ],
      "metadata": {
        "id": "PI9XYAU7Fy24"
      }
    },
    {
      "cell_type": "markdown",
      "source": [
        "<font size=\"4\">**5.Logical Operators in R**</font>"
      ],
      "metadata": {
        "id": "Rmf3gUWzLJaC"
      }
    },
    {
      "cell_type": "markdown",
      "source": [
        "R contains several operators to perform logical operations. Here are the most commonly used ones:\n",
        "\n",
        "*   `==` : Equal to\n",
        "*   `!=` : Not equal to\n",
        "*   `<` : Less than\n",
        "*   `>` : Greater than\n",
        "*   `<=` : Less than or equal to\n",
        "*   `>=` : Greater than or equal to\n",
        "*   `!` : NOT\n",
        "*   `&` : AND\n",
        "*   `|` : OR\n",
        "\n",
        "Now, let's try out some logical operations."
      ],
      "metadata": {
        "id": "xy5OQpBOLTJF"
      }
    },
    {
      "cell_type": "code",
      "source": [
        "# Equal to\n",
        "5 == 5\n"
      ],
      "metadata": {
        "id": "yRwxf8WnGppd"
      },
      "execution_count": null,
      "outputs": []
    },
    {
      "cell_type": "code",
      "source": [
        "# Not equal to\n",
        "5 != 5\n",
        "\n",
        "5 != 4"
      ],
      "metadata": {
        "colab": {
          "base_uri": "https://localhost:8080/",
          "height": 52
        },
        "id": "lO5NRQQ5Mcw0",
        "outputId": "178b3680-08eb-4468-ba1a-8838d8b199c9"
      },
      "execution_count": null,
      "outputs": [
        {
          "output_type": "display_data",
          "data": {
            "text/html": [
              "FALSE"
            ],
            "text/markdown": "FALSE",
            "text/latex": "FALSE",
            "text/plain": [
              "[1] FALSE"
            ]
          },
          "metadata": {}
        },
        {
          "output_type": "display_data",
          "data": {
            "text/html": [
              "TRUE"
            ],
            "text/markdown": "TRUE",
            "text/latex": "TRUE",
            "text/plain": [
              "[1] TRUE"
            ]
          },
          "metadata": {}
        }
      ]
    },
    {
      "cell_type": "code",
      "source": [
        "# Less than\n",
        "3 < 4\n",
        "\n",
        "# Greater than or equal to\n",
        "4 >= 4"
      ],
      "metadata": {
        "id": "izBFaOkMMe-O"
      },
      "execution_count": null,
      "outputs": []
    },
    {
      "cell_type": "code",
      "source": [
        "# NOT\n",
        "!TRUE"
      ],
      "metadata": {
        "colab": {
          "base_uri": "https://localhost:8080/",
          "height": 34
        },
        "id": "5vtrOffwM26F",
        "outputId": "26662ed5-6064-45d7-8dab-8a3efd70b14a"
      },
      "execution_count": null,
      "outputs": [
        {
          "output_type": "display_data",
          "data": {
            "text/html": [
              "FALSE"
            ],
            "text/markdown": "FALSE",
            "text/latex": "FALSE",
            "text/plain": [
              "[1] FALSE"
            ]
          },
          "metadata": {}
        }
      ]
    },
    {
      "cell_type": "code",
      "source": [
        "# AND\n",
        "TRUE & FALSE"
      ],
      "metadata": {
        "id": "jr12EWokM4-O"
      },
      "execution_count": null,
      "outputs": []
    },
    {
      "cell_type": "code",
      "source": [
        "# OR\n",
        "TRUE | FALSE"
      ],
      "metadata": {
        "id": "4uzd3yNBM7bk"
      },
      "execution_count": null,
      "outputs": []
    },
    {
      "cell_type": "markdown",
      "source": [
        "<font size=\"4\">**6.Assigning Variables**</font>"
      ],
      "metadata": {
        "id": "-5XmmGQeNW7w"
      }
    },
    {
      "cell_type": "markdown",
      "source": [
        "In R, we assign values to variables using `<-` or `=`."
      ],
      "metadata": {
        "id": "Hh8eWHv2NVgw"
      }
    },
    {
      "cell_type": "code",
      "source": [
        "# Assigning a variable\n",
        "x <- 10\n",
        "y = 5"
      ],
      "metadata": {
        "id": "FI5lD3KsNzEL"
      },
      "execution_count": null,
      "outputs": []
    },
    {
      "cell_type": "code",
      "source": [
        "# Check the variable x\n",
        "x"
      ],
      "metadata": {
        "colab": {
          "base_uri": "https://localhost:8080/",
          "height": 34
        },
        "id": "9dpP5UhtN_gP",
        "outputId": "2920b0dc-14f2-4440-947e-bad89c7f0d0d"
      },
      "execution_count": null,
      "outputs": [
        {
          "output_type": "display_data",
          "data": {
            "text/html": [
              "10"
            ],
            "text/markdown": "10",
            "text/latex": "10",
            "text/plain": [
              "[1] 10"
            ]
          },
          "metadata": {}
        }
      ]
    },
    {
      "cell_type": "code",
      "source": [
        "# Check the variable y\n",
        "y"
      ],
      "metadata": {
        "id": "H-EWdVLXOBUz"
      },
      "execution_count": null,
      "outputs": []
    },
    {
      "cell_type": "markdown",
      "source": [
        "Once variables are assigned, we can call upon them by using their names."
      ],
      "metadata": {
        "id": "-nMe_U7IPNSs"
      }
    },
    {
      "cell_type": "code",
      "source": [
        "# Using the variables\n",
        "x - 3\n",
        "y * 5"
      ],
      "metadata": {
        "colab": {
          "base_uri": "https://localhost:8080/",
          "height": 52
        },
        "id": "UaMT6PS5Ov6v",
        "outputId": "60b09184-5125-463a-a1ec-d83c83d1d542"
      },
      "execution_count": null,
      "outputs": [
        {
          "output_type": "display_data",
          "data": {
            "text/html": [
              "7"
            ],
            "text/markdown": "7",
            "text/latex": "7",
            "text/plain": [
              "[1] 7"
            ]
          },
          "metadata": {}
        },
        {
          "output_type": "display_data",
          "data": {
            "text/html": [
              "25"
            ],
            "text/markdown": "25",
            "text/latex": "25",
            "text/plain": [
              "[1] 25"
            ]
          },
          "metadata": {}
        }
      ]
    },
    {
      "cell_type": "markdown",
      "source": [
        "But without reassigning them with `<-` or `=`, running the above chunk will not change the values stored in the variables"
      ],
      "metadata": {
        "id": "TPoMhOJSPc22"
      }
    },
    {
      "cell_type": "code",
      "source": [
        "# Check if the value of x change after running x-3\n",
        "x == 7\n",
        "\n",
        "# x+y still equals to 15\n",
        "sum(x,y)"
      ],
      "metadata": {
        "colab": {
          "base_uri": "https://localhost:8080/",
          "height": 52
        },
        "id": "I8uamCwNPvPw",
        "outputId": "fd1e3aaa-bb07-418e-8588-0957536d60bf"
      },
      "execution_count": null,
      "outputs": [
        {
          "output_type": "display_data",
          "data": {
            "text/html": [
              "FALSE"
            ],
            "text/markdown": "FALSE",
            "text/latex": "FALSE",
            "text/plain": [
              "[1] FALSE"
            ]
          },
          "metadata": {}
        },
        {
          "output_type": "display_data",
          "data": {
            "text/html": [
              "15"
            ],
            "text/markdown": "15",
            "text/latex": "15",
            "text/plain": [
              "[1] 15"
            ]
          },
          "metadata": {}
        }
      ]
    },
    {
      "cell_type": "markdown",
      "source": [
        "Let's see how we can modify the value of 'x'."
      ],
      "metadata": {
        "id": "HCvL8nFZQJzv"
      }
    },
    {
      "cell_type": "code",
      "source": [
        "# Reassigning a variable\n",
        "x <- 6\n",
        "x\n"
      ],
      "metadata": {
        "id": "Oh8P_qQIQl7F"
      },
      "execution_count": null,
      "outputs": []
    },
    {
      "cell_type": "code",
      "source": [
        "# Incrementing a variable\n",
        "x <- x + 1\n",
        "x"
      ],
      "metadata": {
        "id": "N3JGO3iHQrB6"
      },
      "execution_count": null,
      "outputs": []
    },
    {
      "cell_type": "markdown",
      "source": [
        "<font size=\"4\">**7.Creating Vectors and Matrices**</font>"
      ],
      "metadata": {
        "id": "Yi8DZ0mrWfbJ"
      }
    },
    {
      "cell_type": "markdown",
      "source": [
        "**Vectors**"
      ],
      "metadata": {
        "id": "FiqGwqfJZrto"
      }
    },
    {
      "cell_type": "markdown",
      "source": [
        "A vector is the simplest type of data structure in R. It contains elements of the same type. We can create a vector using the `c()` function."
      ],
      "metadata": {
        "id": "0zxhtAQMWvI8"
      }
    },
    {
      "cell_type": "code",
      "source": [
        "# Creating a vector with numeric values\n",
        "v <- c(1, 2, 3, 4, 5)\n",
        "\n",
        "# Creating a vector with characters\n",
        "t <- c('Alice', 'Tom', 'This is a sentence.')\n"
      ],
      "metadata": {
        "id": "3qSPlxpmWulV"
      },
      "execution_count": null,
      "outputs": []
    },
    {
      "cell_type": "code",
      "source": [
        "print(v)"
      ],
      "metadata": {
        "colab": {
          "base_uri": "https://localhost:8080/",
          "height": 52
        },
        "id": "kzhCTY5pW0vg",
        "outputId": "0f3621de-8074-4d9c-a647-13b8013c7a2d"
      },
      "execution_count": null,
      "outputs": [
        {
          "output_type": "stream",
          "name": "stdout",
          "text": [
            "[1] 1 2 3 4 5\n"
          ]
        },
        {
          "output_type": "display_data",
          "data": {
            "text/html": [
              "'numeric'"
            ],
            "text/markdown": "'numeric'",
            "text/latex": "'numeric'",
            "text/plain": [
              "[1] \"numeric\""
            ]
          },
          "metadata": {}
        }
      ]
    },
    {
      "cell_type": "code",
      "source": [
        "print(t)"
      ],
      "metadata": {
        "colab": {
          "base_uri": "https://localhost:8080/"
        },
        "id": "qyxmcySnXYNK",
        "outputId": "5320d2af-9f74-4886-bc8d-d9aafdf23213"
      },
      "execution_count": null,
      "outputs": [
        {
          "output_type": "stream",
          "name": "stdout",
          "text": [
            "[1] \"Alice\"               \"Tom\"                 \"This is a sentence.\"\n"
          ]
        }
      ]
    },
    {
      "cell_type": "markdown",
      "source": [
        "Note that in R, vectors can only contain elements of the same data type. When you create a vector that includes both character and numeric values, the numeric values will be treated as characters. It's important to be mindful of this behavior when working with mixed data types in R to avoid unexpected results or errors in your code."
      ],
      "metadata": {
        "id": "nx9qCqcRXx4N"
      }
    },
    {
      "cell_type": "code",
      "source": [
        "a <- c('text', 1, 2)"
      ],
      "metadata": {
        "id": "EAGmVNEgXcC7"
      },
      "execution_count": null,
      "outputs": []
    },
    {
      "cell_type": "code",
      "source": [
        "class(a)"
      ],
      "metadata": {
        "colab": {
          "base_uri": "https://localhost:8080/",
          "height": 34
        },
        "id": "bhsR6KKJYiHF",
        "outputId": "f5b9a159-2a20-4f5f-82e0-c4f57e4f4a02"
      },
      "execution_count": null,
      "outputs": [
        {
          "output_type": "display_data",
          "data": {
            "text/html": [
              "'character'"
            ],
            "text/markdown": "'character'",
            "text/latex": "'character'",
            "text/plain": [
              "[1] \"character\""
            ]
          },
          "metadata": {}
        }
      ]
    },
    {
      "cell_type": "markdown",
      "source": [
        "**Matrices**"
      ],
      "metadata": {
        "id": "KsgpLBcCZwkX"
      }
    },
    {
      "cell_type": "markdown",
      "source": [
        "A matrix is a two-dimensional data structure where elements are arranged in rows and columns."
      ],
      "metadata": {
        "id": "GAFSKklRWpDR"
      }
    },
    {
      "cell_type": "code",
      "source": [
        "# Creating a matrix that have two 2 and 3 columns ranging from 1 to 6\n",
        "m <- matrix(c(1, 2, 3, 4, 5, 6), nrow=2, ncol=3)"
      ],
      "metadata": {
        "id": "KsaogYspWrYX"
      },
      "execution_count": null,
      "outputs": []
    },
    {
      "cell_type": "code",
      "source": [
        "print(m)"
      ],
      "metadata": {
        "colab": {
          "base_uri": "https://localhost:8080/"
        },
        "id": "2Swhle2RY77Q",
        "outputId": "ca3662ab-9527-4b00-d557-3ec352b84553"
      },
      "execution_count": null,
      "outputs": [
        {
          "output_type": "stream",
          "name": "stdout",
          "text": [
            "     [,1] [,2] [,3]\n",
            "[1,]    1    3    5\n",
            "[2,]    2    4    6\n"
          ]
        }
      ]
    },
    {
      "cell_type": "code",
      "source": [
        "# Creating a matrix that have two 2 and 3 columns with character values and row/column names\n",
        "m2 <- matrix(c(\"A\", \"B\", \"C\", \"D\", \"E\", \"F\"), nrow = 2, ncol = 3,\n",
        "               dimnames = list(c(\"Row1\", \"Row2\"), c(\"Col1\", \"Col2\", \"Col3\")))\n"
      ],
      "metadata": {
        "id": "Oq0695E_ZSN5"
      },
      "execution_count": null,
      "outputs": []
    },
    {
      "cell_type": "code",
      "source": [
        "print(m2)"
      ],
      "metadata": {
        "colab": {
          "base_uri": "https://localhost:8080/"
        },
        "id": "oh_qMFD1Zc2G",
        "outputId": "40ea6ac3-10b0-4862-99d0-03ba99faf5b0"
      },
      "execution_count": null,
      "outputs": [
        {
          "output_type": "stream",
          "name": "stdout",
          "text": [
            "     Col1 Col2 Col3\n",
            "Row1 \"A\"  \"C\"  \"E\" \n",
            "Row2 \"B\"  \"D\"  \"F\" \n"
          ]
        }
      ]
    },
    {
      "cell_type": "code",
      "source": [
        "attributes(m2)\n"
      ],
      "metadata": {
        "colab": {
          "base_uri": "https://localhost:8080/",
          "height": 146
        },
        "id": "S8vg4D_1SSsT",
        "outputId": "4ebc32e3-a558-455e-ac48-9608d9b817d1"
      },
      "execution_count": null,
      "outputs": [
        {
          "output_type": "display_data",
          "data": {
            "text/html": [
              "<dl>\n",
              "\t<dt>$dim</dt>\n",
              "\t\t<dd><style>\n",
              ".list-inline {list-style: none; margin:0; padding: 0}\n",
              ".list-inline>li {display: inline-block}\n",
              ".list-inline>li:not(:last-child)::after {content: \"\\00b7\"; padding: 0 .5ex}\n",
              "</style>\n",
              "<ol class=list-inline><li>2</li><li>3</li></ol>\n",
              "</dd>\n",
              "\t<dt>$dimnames</dt>\n",
              "\t\t<dd><ol>\n",
              "\t<li><style>\n",
              ".list-inline {list-style: none; margin:0; padding: 0}\n",
              ".list-inline>li {display: inline-block}\n",
              ".list-inline>li:not(:last-child)::after {content: \"\\00b7\"; padding: 0 .5ex}\n",
              "</style>\n",
              "<ol class=list-inline><li>'Row1'</li><li>'Row2'</li></ol>\n",
              "</li>\n",
              "\t<li><style>\n",
              ".list-inline {list-style: none; margin:0; padding: 0}\n",
              ".list-inline>li {display: inline-block}\n",
              ".list-inline>li:not(:last-child)::after {content: \"\\00b7\"; padding: 0 .5ex}\n",
              "</style>\n",
              "<ol class=list-inline><li>'Col1'</li><li>'Col2'</li><li>'Col3'</li></ol>\n",
              "</li>\n",
              "</ol>\n",
              "</dd>\n",
              "</dl>\n"
            ],
            "text/markdown": "$dim\n:   1. 2\n2. 3\n\n\n\n$dimnames\n:   1. 1. 'Row1'\n2. 'Row2'\n\n\n\n2. 1. 'Col1'\n2. 'Col2'\n3. 'Col3'\n\n\n\n\n\n\n\n\n",
            "text/latex": "\\begin{description}\n\\item[\\$dim] \\begin{enumerate*}\n\\item 2\n\\item 3\n\\end{enumerate*}\n\n\\item[\\$dimnames] \\begin{enumerate}\n\\item \\begin{enumerate*}\n\\item 'Row1'\n\\item 'Row2'\n\\end{enumerate*}\n\n\\item \\begin{enumerate*}\n\\item 'Col1'\n\\item 'Col2'\n\\item 'Col3'\n\\end{enumerate*}\n\n\\end{enumerate}\n\n\\end{description}\n",
            "text/plain": [
              "$dim\n",
              "[1] 2 3\n",
              "\n",
              "$dimnames\n",
              "$dimnames[[1]]\n",
              "[1] \"Row1\" \"Row2\"\n",
              "\n",
              "$dimnames[[2]]\n",
              "[1] \"Col1\" \"Col2\" \"Col3\"\n",
              "\n"
            ]
          },
          "metadata": {}
        }
      ]
    },
    {
      "cell_type": "markdown",
      "source": [
        "<font size=\"4\">**8.Basic Statistical Operations with R**</font>"
      ],
      "metadata": {
        "id": "-SoRpH8T-xy1"
      }
    },
    {
      "cell_type": "markdown",
      "source": [
        "R is not just a programming language; it's a language designed specifically for statistics. Now that you know how to create vectors and matrices, let's learn how to perform some basic statistical operations."
      ],
      "metadata": {
        "id": "rr3AFjzF-yVZ"
      }
    },
    {
      "cell_type": "code",
      "source": [
        "# Creating a numeric vector\n",
        "numbers <- c(5, 7, 9, 12, 15)\n",
        "\n",
        "numbers"
      ],
      "metadata": {
        "id": "rZ8NsdB8-2sF",
        "colab": {
          "base_uri": "https://localhost:8080/",
          "height": 34
        },
        "outputId": "c210510c-aca1-4643-a902-815bfd057e4e"
      },
      "execution_count": null,
      "outputs": [
        {
          "output_type": "display_data",
          "data": {
            "text/html": [
              "<style>\n",
              ".list-inline {list-style: none; margin:0; padding: 0}\n",
              ".list-inline>li {display: inline-block}\n",
              ".list-inline>li:not(:last-child)::after {content: \"\\00b7\"; padding: 0 .5ex}\n",
              "</style>\n",
              "<ol class=list-inline><li>5</li><li>7</li><li>9</li><li>12</li><li>15</li></ol>\n"
            ],
            "text/markdown": "1. 5\n2. 7\n3. 9\n4. 12\n5. 15\n\n\n",
            "text/latex": "\\begin{enumerate*}\n\\item 5\n\\item 7\n\\item 9\n\\item 12\n\\item 15\n\\end{enumerate*}\n",
            "text/plain": [
              "[1]  5  7  9 12 15"
            ]
          },
          "metadata": {}
        }
      ]
    },
    {
      "cell_type": "markdown",
      "source": [
        "We've created a numeric vector with the values 5, 7, 9, 12, and 15. Now, let's calculate the average of these numbers."
      ],
      "metadata": {
        "id": "RBq6FZwG-7FW"
      }
    },
    {
      "cell_type": "code",
      "source": [
        "# Calculating the mean of all values stored in the vector\n",
        "mean(numbers)"
      ],
      "metadata": {
        "id": "Acx2E13o_Bar"
      },
      "execution_count": null,
      "outputs": []
    },
    {
      "cell_type": "markdown",
      "source": [
        "Now let's find the median of the same set of numbers."
      ],
      "metadata": {
        "id": "ZHPLkTwL_MCi"
      }
    },
    {
      "cell_type": "code",
      "source": [
        "# Calculating the median of all values stored in the vector\n",
        "median(numbers)\n"
      ],
      "metadata": {
        "id": "q7DHCdE9_O8E",
        "colab": {
          "base_uri": "https://localhost:8080/",
          "height": 34
        },
        "outputId": "1760d0fc-1f59-40d1-da7f-957c56f3768e"
      },
      "execution_count": null,
      "outputs": [
        {
          "output_type": "display_data",
          "data": {
            "text/html": [
              "9"
            ],
            "text/markdown": "9",
            "text/latex": "9",
            "text/plain": [
              "[1] 9"
            ]
          },
          "metadata": {}
        }
      ]
    },
    {
      "cell_type": "markdown",
      "source": [
        "To find the minimum or maximum value in our vector, we can use the `min()` and `max()` functions."
      ],
      "metadata": {
        "id": "Ko7x1YiB_U-O"
      }
    },
    {
      "cell_type": "code",
      "source": [
        "# Calculating the minimum value in the vector\n",
        "min(numbers)\n",
        "\n",
        "# Calculating the maximum value in the vector\n",
        "max(numbers)"
      ],
      "metadata": {
        "id": "PzRwW7O4_kCc"
      },
      "execution_count": null,
      "outputs": []
    },
    {
      "cell_type": "markdown",
      "source": [
        "<font size=\"4\">**9.Creating and Manipulating Data Frames**</font>"
      ],
      "metadata": {
        "id": "nITZsSnLZ8tB"
      }
    },
    {
      "cell_type": "markdown",
      "source": [
        "A data frame is a table where each column can contain data of different types (numeric, character, factor, etc.). Let's create a data frame using our vectors.\n",
        "\n",
        "Let's imagine we're studying the relationship between the amount of exercise people get in a week and their body fat percentage. We have collected data from a group of men and women who have different levels of exercise each week. Our goal is to determine if there's a correlation between the number of hours spent exercising and body fat percentage in these two groups.\n",
        "\n",
        "Once we create this dataframe, we can start analyze the data with R to answer some interesting questions such as: What is the relationship between exercise and body fat percentage? Does the correlation differ between men and women?"
      ],
      "metadata": {
        "id": "MCKzrR_bev3l"
      }
    },
    {
      "cell_type": "markdown",
      "source": [
        "**Create the data frame**"
      ],
      "metadata": {
        "id": "r0NgDPLahfBA"
      }
    },
    {
      "cell_type": "markdown",
      "source": [
        "We will generate three vectors - one for exercise hours, one for body fat percentage, and one for gender. The `rep()` function in R allows us to repeat elements of a vector. Here, we use `rep(\"Men\", 12)` to create a vector of 12 'Men' elements, and `rep(\"Women\", 13)` to create a vector of 13 'Women' elements."
      ],
      "metadata": {
        "id": "eRmTZo1fCBvt"
      }
    },
    {
      "cell_type": "code",
      "source": [
        "# Creating a vector for exercise (in hours per week)\n",
        "exercise <- c(6, 2, 7, 8, 5, 7, 8, 6, 7, 3, 6, 6, 1, 2, 3, 4, 2, 3, 4, 2, 1, 1, 3, 5, 6)\n",
        "\n",
        "# Creating a vector for body fat (in %)\n",
        "body_fat <- c(20, 32, 15, 10, 25, 15, 12, 22, 18, 23, 13, 15, 29, 30, 25, 28, 29, 29, 18, 26, 25, 27, 24, 15, 18)\n",
        "\n",
        "# Creating vectors for gender\n",
        "gender <- c(rep(\"Men\", 12), rep(\"Women\", 13))"
      ],
      "metadata": {
        "id": "UlzqG8fze2bA"
      },
      "execution_count": null,
      "outputs": []
    },
    {
      "cell_type": "code",
      "source": [
        "# Creating a data frame\n",
        "df <- data.frame(exercise, body_fat, gender)"
      ],
      "metadata": {
        "id": "h9dYMAbigBfR"
      },
      "execution_count": null,
      "outputs": []
    },
    {
      "cell_type": "code",
      "source": [
        "df"
      ],
      "metadata": {
        "colab": {
          "base_uri": "https://localhost:8080/",
          "height": 882
        },
        "id": "PHfIk9B8gICc",
        "outputId": "3c133241-1f6e-46f4-df28-6c649c619a50"
      },
      "execution_count": null,
      "outputs": [
        {
          "output_type": "display_data",
          "data": {
            "text/html": [
              "<table class=\"dataframe\">\n",
              "<caption>A data.frame: 25 × 3</caption>\n",
              "<thead>\n",
              "\t<tr><th scope=col>exercise</th><th scope=col>body_fat</th><th scope=col>gender</th></tr>\n",
              "\t<tr><th scope=col>&lt;dbl&gt;</th><th scope=col>&lt;dbl&gt;</th><th scope=col>&lt;chr&gt;</th></tr>\n",
              "</thead>\n",
              "<tbody>\n",
              "\t<tr><td>6</td><td>20</td><td>Men  </td></tr>\n",
              "\t<tr><td>2</td><td>32</td><td>Men  </td></tr>\n",
              "\t<tr><td>7</td><td>15</td><td>Men  </td></tr>\n",
              "\t<tr><td>8</td><td>10</td><td>Men  </td></tr>\n",
              "\t<tr><td>5</td><td>25</td><td>Men  </td></tr>\n",
              "\t<tr><td>7</td><td>15</td><td>Men  </td></tr>\n",
              "\t<tr><td>8</td><td>12</td><td>Men  </td></tr>\n",
              "\t<tr><td>6</td><td>22</td><td>Men  </td></tr>\n",
              "\t<tr><td>7</td><td>18</td><td>Men  </td></tr>\n",
              "\t<tr><td>3</td><td>23</td><td>Men  </td></tr>\n",
              "\t<tr><td>6</td><td>13</td><td>Men  </td></tr>\n",
              "\t<tr><td>6</td><td>15</td><td>Men  </td></tr>\n",
              "\t<tr><td>1</td><td>29</td><td>Women</td></tr>\n",
              "\t<tr><td>2</td><td>30</td><td>Women</td></tr>\n",
              "\t<tr><td>3</td><td>25</td><td>Women</td></tr>\n",
              "\t<tr><td>4</td><td>28</td><td>Women</td></tr>\n",
              "\t<tr><td>2</td><td>29</td><td>Women</td></tr>\n",
              "\t<tr><td>3</td><td>29</td><td>Women</td></tr>\n",
              "\t<tr><td>4</td><td>18</td><td>Women</td></tr>\n",
              "\t<tr><td>2</td><td>26</td><td>Women</td></tr>\n",
              "\t<tr><td>1</td><td>25</td><td>Women</td></tr>\n",
              "\t<tr><td>1</td><td>27</td><td>Women</td></tr>\n",
              "\t<tr><td>3</td><td>24</td><td>Women</td></tr>\n",
              "\t<tr><td>5</td><td>15</td><td>Women</td></tr>\n",
              "\t<tr><td>6</td><td>18</td><td>Women</td></tr>\n",
              "</tbody>\n",
              "</table>\n"
            ],
            "text/markdown": "\nA data.frame: 25 × 3\n\n| exercise &lt;dbl&gt; | body_fat &lt;dbl&gt; | gender &lt;chr&gt; |\n|---|---|---|\n| 6 | 20 | Men   |\n| 2 | 32 | Men   |\n| 7 | 15 | Men   |\n| 8 | 10 | Men   |\n| 5 | 25 | Men   |\n| 7 | 15 | Men   |\n| 8 | 12 | Men   |\n| 6 | 22 | Men   |\n| 7 | 18 | Men   |\n| 3 | 23 | Men   |\n| 6 | 13 | Men   |\n| 6 | 15 | Men   |\n| 1 | 29 | Women |\n| 2 | 30 | Women |\n| 3 | 25 | Women |\n| 4 | 28 | Women |\n| 2 | 29 | Women |\n| 3 | 29 | Women |\n| 4 | 18 | Women |\n| 2 | 26 | Women |\n| 1 | 25 | Women |\n| 1 | 27 | Women |\n| 3 | 24 | Women |\n| 5 | 15 | Women |\n| 6 | 18 | Women |\n\n",
            "text/latex": "A data.frame: 25 × 3\n\\begin{tabular}{lll}\n exercise & body\\_fat & gender\\\\\n <dbl> & <dbl> & <chr>\\\\\n\\hline\n\t 6 & 20 & Men  \\\\\n\t 2 & 32 & Men  \\\\\n\t 7 & 15 & Men  \\\\\n\t 8 & 10 & Men  \\\\\n\t 5 & 25 & Men  \\\\\n\t 7 & 15 & Men  \\\\\n\t 8 & 12 & Men  \\\\\n\t 6 & 22 & Men  \\\\\n\t 7 & 18 & Men  \\\\\n\t 3 & 23 & Men  \\\\\n\t 6 & 13 & Men  \\\\\n\t 6 & 15 & Men  \\\\\n\t 1 & 29 & Women\\\\\n\t 2 & 30 & Women\\\\\n\t 3 & 25 & Women\\\\\n\t 4 & 28 & Women\\\\\n\t 2 & 29 & Women\\\\\n\t 3 & 29 & Women\\\\\n\t 4 & 18 & Women\\\\\n\t 2 & 26 & Women\\\\\n\t 1 & 25 & Women\\\\\n\t 1 & 27 & Women\\\\\n\t 3 & 24 & Women\\\\\n\t 5 & 15 & Women\\\\\n\t 6 & 18 & Women\\\\\n\\end{tabular}\n",
            "text/plain": [
              "   exercise body_fat gender\n",
              "1  6        20       Men   \n",
              "2  2        32       Men   \n",
              "3  7        15       Men   \n",
              "4  8        10       Men   \n",
              "5  5        25       Men   \n",
              "6  7        15       Men   \n",
              "7  8        12       Men   \n",
              "8  6        22       Men   \n",
              "9  7        18       Men   \n",
              "10 3        23       Men   \n",
              "11 6        13       Men   \n",
              "12 6        15       Men   \n",
              "13 1        29       Women \n",
              "14 2        30       Women \n",
              "15 3        25       Women \n",
              "16 4        28       Women \n",
              "17 2        29       Women \n",
              "18 3        29       Women \n",
              "19 4        18       Women \n",
              "20 2        26       Women \n",
              "21 1        25       Women \n",
              "22 1        27       Women \n",
              "23 3        24       Women \n",
              "24 5        15       Women \n",
              "25 6        18       Women "
            ]
          },
          "metadata": {}
        }
      ]
    },
    {
      "cell_type": "markdown",
      "source": [
        "**Save and load datasets**"
      ],
      "metadata": {
        "id": "VZSPLlQTjVMX"
      }
    },
    {
      "cell_type": "markdown",
      "source": [
        "Now that we have our data frame ready, we can store it in our working directory with the `write.csv()` function. Remember that the `setwd()` function is useful for designating a working directory. It's also a good practice to check your current working directory and ensure that your files are being saved and loaded from the correct location."
      ],
      "metadata": {
        "id": "BH90X7qFhm9C"
      }
    },
    {
      "cell_type": "code",
      "source": [
        "# Using getwd() and setwd() to check and set your working directory\n",
        "# Saving data frame to the current working directory\n",
        "write.csv(df, \"data.csv\")"
      ],
      "metadata": {
        "id": "qghaW46QiVP2"
      },
      "execution_count": null,
      "outputs": []
    },
    {
      "cell_type": "markdown",
      "source": [
        "You have now effectively created your own `.csv` file. The same kind of file that Microsoft Excel would generate when you create a spreadsheet.\n",
        "\n",
        "Now let's read the data file we just saved from our working directory with the `read_csv()` function."
      ],
      "metadata": {
        "id": "5pK3tSSMicUI"
      }
    },
    {
      "cell_type": "code",
      "source": [
        "# Loading data frame back into R\n",
        "my_data <- read.csv(\"data.csv\")"
      ],
      "metadata": {
        "id": "XQuGoG_2imGt"
      },
      "execution_count": null,
      "outputs": []
    },
    {
      "cell_type": "markdown",
      "source": [
        "This is how you can load an actual data set into R. In this context, we are just going to load the data set we created ourselves."
      ],
      "metadata": {
        "id": "8s-Z62E6aD-R"
      }
    },
    {
      "cell_type": "markdown",
      "source": [
        "<font size=\"4\">**10.Data Visualizations with R**</font>"
      ],
      "metadata": {
        "id": "Rkoxg7HbhkzU"
      }
    },
    {
      "cell_type": "markdown",
      "source": [
        "R is not only a powerful tool for data manipulation and analysis, but also for data visualization. One of the most popular packages for creating high-quality graphics in R is `ggplot2`. Let's use it to create a scatter plot visualizing the relationship between exercise and body fat percentage in men."
      ],
      "metadata": {
        "id": "bGt5BWkLj1fI"
      }
    },
    {
      "cell_type": "code",
      "source": [
        "# Load ggplot2 package\n",
        "library(ggplot2)"
      ],
      "metadata": {
        "id": "C3y6AtWEnZb4"
      },
      "execution_count": null,
      "outputs": []
    },
    {
      "cell_type": "code",
      "source": [
        "# Creating a scatter plot for men\n",
        "ggplot(my_data[my_data$gender==\"Men\",], aes(x=exercise, y=body_fat)) +  # Define the dataset, x-axis, and y-axis\n",
        "  geom_point(color='blue') +   # Plot the data with blue points\n",
        "  labs(x='Exercise (hours per week)', y='Body Fat (%)', title='Exercise vs Body Fat in Men') # Add title and labels to the graph\n"
      ],
      "metadata": {
        "colab": {
          "base_uri": "https://localhost:8080/",
          "height": 437
        },
        "id": "ynFtDiW8kBwe",
        "outputId": "e50562d8-0599-4e89-a662-f27472ece153"
      },
      "execution_count": null,
      "outputs": [
        {
          "output_type": "display_data",
          "data": {
            "text/plain": [
              "plot without title"
            ],
            "image/png": "[encoded data removed]"
          },
          "metadata": {
            "image/png": {
              "width": 420,
              "height": 420
            }
          }
        }
      ]
    },
    {
      "cell_type": "markdown",
      "source": [
        "If this code looks intimidating, don't be concerned! This is the basic syntax associated with the `ggplot2` package. The package has its own grammar, and most of the basic code will always look the same. As you get comfortable with data analysis you may want to learn more advanced `ggplot2` grammar, but for now these are the very basics.\n",
        "\n",
        "Here, the function `ggplot()` initializes a ggplot object. The `aes()` function inside `ggplot()` stands for aesthetics and is used to specify aesthetic mappings. It is used to map variables in the data to visual properties of the plot like the x-axis, y-axis, color, shape, size, etc. For example, in `aes(x=exercise, y=body_fat)`, we are mapping the 'exercise' variable to the x-axis and 'body_fat' variable to the y-axis. Then we add layers to this base plot using + symbol. The `geom_point()` function is an example of a layer that adds scatterplot points to the base plot. Beyond scatter plots, `ggplot2` has a variety of geometric objects (geom) to create different types of plots. For instance, `geom_histogram()` is used for creating histograms, `geom_line()` for line plots, `geom_bar()` for bar plots, etc."
      ],
      "metadata": {
        "id": "7hpTltndn_OT"
      }
    },
    {
      "cell_type": "markdown",
      "source": [
        "You may have also noticed the dollar sign `$` used within the ggplot function. In R, the dollar sign is a special operator that allows us to access specific variables (or columns) within a data frame, following the format `data_frame$variable_name`. For instance, `my_data$gender` allows us to access the 'gender' column from the 'my_data' data frame. We can also use this operator in conjunction with a logical condition, such as `my_data$gender==\"Men\"`, which checks each row in the 'gender' column, marking it as TRUE if it equals \"Men\" and FALSE otherwise. This resulting series of TRUE and FALSE values can be used to subset the data frame, like so: `my_data[my_data$gender==\"Men\",]`. This command selects only those rows in 'my_data' where 'gender' equals \"Men\".\n",
        "\n",
        "We can also overlay the data for women on the same plot. This will allow us to easily compare the two groups."
      ],
      "metadata": {
        "id": "uiyhuq4wJUFk"
      }
    },
    {
      "cell_type": "code",
      "source": [
        "# Creating a scatter plot for men and women\n",
        "ggplot(my_data, aes(x=exercise, y=body_fat, color=gender)) +  # Define the dataset, x-axis, y-axis, and color by gender\n",
        "  geom_point() +   # Plot the data\n",
        "  labs(x='Exercise (hours per week)', y='Body Fat (%)', title='Exercise vs Body Fat in Men and Women', color='Gender') # Add title, labels to the graph, and legend title\n"
      ],
      "metadata": {
        "colab": {
          "base_uri": "https://localhost:8080/",
          "height": 437
        },
        "id": "QdPxfgV0oBTO",
        "outputId": "7bc97914-da04-45d4-c515-d4e1c63b04d7"
      },
      "execution_count": null,
      "outputs": [
        {
          "output_type": "display_data",
          "data": {
            "text/plain": [
              "plot without title"
            ],
            "image/png": "[encoded data removed]"
          },
          "metadata": {
            "image/png": {
              "width": 420,
              "height": 420
            }
          }
        }
      ]
    },
    {
      "cell_type": "markdown",
      "source": [
        "From the scatter plots, we can observe a clear negative relationship between exercise and body fat percentage for both men and women - as the amount of exercise increases, the body fat percentage decreases. Furthermore, it's noticeable that women in the dataset generally engage in less exercise and have higher body fat percentages compared to men."
      ],
      "metadata": {
        "id": "h2gDaidPpFMb"
      }
    },
    {
      "cell_type": "markdown",
      "source": [
        "<font size=\"4\">**11.Building Our First Regression Model**</font>"
      ],
      "metadata": {
        "id": "Ezs06Y_SpVLr"
      }
    },
    {
      "cell_type": "markdown",
      "source": [
        "Let's take a step further and build regression models to quantify the relationship between exercise and body fat percentage."
      ],
      "metadata": {
        "id": "E9MOtSOHpoMh"
      }
    },
    {
      "cell_type": "code",
      "source": [
        "# Load lm function from base R\n",
        "library(stats)"
      ],
      "metadata": {
        "id": "v6UVzuUwp1WK"
      },
      "execution_count": null,
      "outputs": []
    },
    {
      "cell_type": "markdown",
      "source": [
        "Let's begin by creating a regression model for the entire group.\n",
        "\n",
        "We're going to use a function called `lm` from the stats package in R. `lm` stands for linear model, and it allows us to create regression models (we will talk more about what these are later). In short, a simple regression model captures the relationship between one variable (in our case, exercise) and another (in our case, body fat). Exercise is our predictor, and body fat is the quantity of interest (output). The `lm` function is, in essence, going to identify the line of best fit that captures this relationship, on the basis of our observed data (i.e., the data set we have created).\n"
      ],
      "metadata": {
        "id": "4A93GLTwcrbJ"
      }
    },
    {
      "cell_type": "code",
      "source": [
        "# Fit the model for all people\n",
        "# The response variable is the body fat percentage\n",
        "# while the predictors are exercise hours\n",
        "model_all <- lm(body_fat ~ exercise, data=my_data)"
      ],
      "metadata": {
        "id": "8lmV78kkRQFp"
      },
      "execution_count": null,
      "outputs": []
    },
    {
      "cell_type": "markdown",
      "source": [
        "Next, let's visualize this model. We'll use the `geom_smooth()` function, which adds a smoothed mean line that fits best to the data points (a regression line in our case) to our scatter plot."
      ],
      "metadata": {
        "id": "vzbG2zjnSU5e"
      }
    },
    {
      "cell_type": "code",
      "source": [
        "# Plotting the regression line for all people\n",
        "ggplot(my_data, aes(x=exercise, y=body_fat)) +\n",
        "  geom_point() +\n",
        "  geom_smooth(method = \"lm\", se = FALSE, color = \"green\") +  # line for all people\n",
        "  labs(x='Exercise (hours per week)', y='Body Fat (%)',\n",
        "       title='Regression Model of Exercise vs Body Fat for All People')"
      ],
      "metadata": {
        "colab": {
          "base_uri": "https://localhost:8080/",
          "height": 455
        },
        "id": "RLcQBB9YS2JB",
        "outputId": "953c76f1-d29f-4455-fdb8-a4e43cae6735"
      },
      "execution_count": null,
      "outputs": [
        {
          "output_type": "stream",
          "name": "stderr",
          "text": [
            "\u001b[1m\u001b[22m`geom_smooth()` using formula = 'y ~ x'\n"
          ]
        },
        {
          "output_type": "display_data",
          "data": {
            "text/plain": [
              "plot without title"
            ],
            "image/png": "[encoded data removed]"
          },
          "metadata": {
            "image/png": {
              "width": 420,
              "height": 420
            }
          }
        }
      ]
    },
    {
      "cell_type": "markdown",
      "source": [
        "We can visualize from the above model that there is a negative relationship between exercise and body fat percentage. However, we might be masking underlying differences between the genders. Exercise may affect body fat differently in men and women due to biological differences, societal factors, or a combination of both. The relationship in men might be stronger, weaker, or completely different from that in women. Therefore, to better understand how exercise relates to body fat, we should consider conducting a separate analysis for each gender.\n",
        "\n",
        "In the light of these considerations, let's proceed to construct separate regression models for men and women. We will start with men."
      ],
      "metadata": {
        "id": "mLbW904jTQVg"
      }
    },
    {
      "cell_type": "code",
      "source": [
        "# Separate the data for men\n",
        "data_men <- my_data[my_data$gender==\"Men\",]\n",
        "\n",
        "# Fit the model for men\n",
        "model_men <- lm(body_fat ~ exercise, data = data_men)"
      ],
      "metadata": {
        "id": "xu42jwztqGQv"
      },
      "execution_count": null,
      "outputs": []
    },
    {
      "cell_type": "markdown",
      "source": [
        "And now let's visualize the model for men."
      ],
      "metadata": {
        "id": "Z4Pd1mEDUu03"
      }
    },
    {
      "cell_type": "code",
      "source": [
        "# Plotting the regression line for men\n",
        "ggplot(data_men, aes(x=exercise, y=body_fat)) +\n",
        "  geom_point() +\n",
        "  geom_smooth(method = \"lm\", se = FALSE, color = \"red\") +  # line for men\n",
        "  labs(x='Exercise (hours per week)', y='Body Fat (%)',\n",
        "       title='Regression Model of Exercise vs Body Fat for Men')\n"
      ],
      "metadata": {
        "id": "u_-C59xIqLE4",
        "colab": {
          "base_uri": "https://localhost:8080/",
          "height": 455
        },
        "outputId": "fc57cb4d-0b0b-40ba-b45d-422f0c99c1eb"
      },
      "execution_count": null,
      "outputs": [
        {
          "output_type": "stream",
          "name": "stderr",
          "text": [
            "\u001b[1m\u001b[22m`geom_smooth()` using formula = 'y ~ x'\n"
          ]
        },
        {
          "output_type": "display_data",
          "data": {
            "text/plain": [
              "plot without title"
            ],
            "image/png": "[encoded data removed]"
          },
          "metadata": {
            "image/png": {
              "width": 420,
              "height": 420
            }
          }
        }
      ]
    },
    {
      "cell_type": "markdown",
      "source": [
        "Next, we'll build and visualize the model for women."
      ],
      "metadata": {
        "id": "ccxde-F8U0EZ"
      }
    },
    {
      "cell_type": "code",
      "source": [
        "# Separate the data for women\n",
        "data_women <- my_data[my_data$gender==\"Women\",]\n",
        "\n",
        "# Fit the model for women\n",
        "model_women <- lm(body_fat ~ exercise, data = data_women)"
      ],
      "metadata": {
        "id": "Bs9pZD4ZBBlM"
      },
      "execution_count": null,
      "outputs": []
    },
    {
      "cell_type": "code",
      "source": [
        "# Plotting the regression line for women\n",
        "ggplot(data_women, aes(x=exercise, y=body_fat)) +\n",
        "  geom_point() +\n",
        "  geom_smooth(method = \"lm\", se = FALSE, color = \"blue\") +  # line for women\n",
        "  labs(x='Exercise (hours per week)', y='Body Fat (%)',\n",
        "       title='Regression Model of Exercise vs Body Fat for Women')\n"
      ],
      "metadata": {
        "id": "FPoo6-_QCV3G",
        "colab": {
          "base_uri": "https://localhost:8080/",
          "height": 455
        },
        "outputId": "17b416cb-aba1-4f02-81d4-ccea020ff2c2"
      },
      "execution_count": null,
      "outputs": [
        {
          "output_type": "stream",
          "name": "stderr",
          "text": [
            "\u001b[1m\u001b[22m`geom_smooth()` using formula = 'y ~ x'\n"
          ]
        },
        {
          "output_type": "display_data",
          "data": {
            "text/plain": [
              "plot without title"
            ],
            "image/png": "[encoded data removed]"
          },
          "metadata": {
            "image/png": {
              "width": 420,
              "height": 420
            }
          }
        }
      ]
    },
    {
      "cell_type": "markdown",
      "source": [
        "At first glance, the regression models for men, women, and the combined group all seem to suggest a similar pattern - a negative relationship between exercise and body fat percentage. This is consistent with our initial hypothesis that more exercise might lead to a lower body fat percentage. However, simply eyeballing the individual models might not provide us with a complete picture of the nuances in the data.\n",
        "\n",
        "It is beneficial to visually compare all three models on the same plot to discern any differences in the slopes or intercepts of the regression lines. These differences, if present, might indicate varying strengths or directions of the relationship between exercise and body fat for men and women.\n",
        "\n",
        "Therefore, let's plot all three models together to facilitate a more comprehensive comparison and potentially uncover more nuanced insights about the relationship between exercise and body fat across different genders."
      ],
      "metadata": {
        "id": "PEJcIZJgVow0"
      }
    },
    {
      "cell_type": "code",
      "source": [
        "# Plotting the regression lines\n",
        "ggplot(my_data, aes(x=exercise, y=body_fat, color = gender)) +\n",
        "  geom_point() +\n",
        "  geom_smooth(method = \"lm\", se = FALSE, color = \"green\") +  # line for all people\n",
        "  geom_smooth(data = data_men, method = \"lm\", se = FALSE, color = \"#F0929B\") +  # line for men\n",
        "  geom_smooth(data = data_women, method = \"lm\", se = FALSE, color = \"#36C1C3\") +  # line for women\n",
        "  labs(x='Exercise (hours per week)', y='Body Fat (%)',\n",
        "       title='Regression Models of Exercise vs Body Fat')\n"
      ],
      "metadata": {
        "colab": {
          "base_uri": "https://localhost:8080/",
          "height": 491
        },
        "id": "WVLTkcYhVtP0",
        "outputId": "3afc20cb-20cc-4a04-8236-8fcc63bdc164"
      },
      "execution_count": null,
      "outputs": [
        {
          "output_type": "stream",
          "name": "stderr",
          "text": [
            "\u001b[1m\u001b[22m`geom_smooth()` using formula = 'y ~ x'\n",
            "\u001b[1m\u001b[22m`geom_smooth()` using formula = 'y ~ x'\n",
            "\u001b[1m\u001b[22m`geom_smooth()` using formula = 'y ~ x'\n"
          ]
        },
        {
          "output_type": "display_data",
          "data": {
            "text/plain": [
              "plot without title"
            ],
            "image/png": "[encoded data removed]"
          },
          "metadata": {
            "image/png": {
              "width": 420,
              "height": 420
            }
          }
        }
      ]
    },
    {
      "cell_type": "markdown",
      "source": [
        "In the plot above, all regression pines show a negative relationship, implying that more exercise is generally associated with a lower body fat percentage. Interestingly, the slope of the line for men is steeper than that for women, indicating that exercise might have a stronger impact on body fat reduction in men than in women. This highlights the importance of segmenting our data and the value of exploring group-specific trends."
      ],
      "metadata": {
        "id": "xJspKAxFYLdu"
      }
    },
    {
      "cell_type": "markdown",
      "source": [
        "<font size=\"4\">**12.Working with Real-world Data**</font>"
      ],
      "metadata": {
        "id": "-V8z1qkUGJi7"
      }
    },
    {
      "cell_type": "markdown",
      "source": [
        "Now that you've got a good understanding of how R can be used to analyze and visualize data, it's time to apply this knowledge to real-world data. For this purpose, we'll use the renowned Titanic dataset from Kaggle. Kaggle is a vibrant platform where data science enthusiasts can discover numerous datasets, build models, and partake in competitions. The Titanic dataset provides information on the passengers aboard the Titanic, with details segmented according to factors such as economic status (class), sex, age, and survival status.\n",
        "\n",
        "You can download the dataset from https://www.kaggle.com/datasets/heptapod/titanic. Please ensure to download the train_and_test2.csv file and save it to your working directory if you want to run analysis on your local computer."
      ],
      "metadata": {
        "id": "OVbSP9cAJgrq"
      }
    },
    {
      "cell_type": "code",
      "source": [
        "# Load the library\n",
        "library(dplyr)\n",
        "library(stats)\n",
        "library(ggplot2)"
      ],
      "metadata": {
        "id": "zkqIl9s0PDTk",
        "colab": {
          "base_uri": "https://localhost:8080/"
        },
        "outputId": "e807476a-b274-4d4a-bddf-7ea9b81779ea"
      },
      "execution_count": null,
      "outputs": [
        {
          "output_type": "stream",
          "name": "stderr",
          "text": [
            "\n",
            "Attaching package: ‘dplyr’\n",
            "\n",
            "\n",
            "The following objects are masked from ‘package:stats’:\n",
            "\n",
            "    filter, lag\n",
            "\n",
            "\n",
            "The following objects are masked from ‘package:base’:\n",
            "\n",
            "    intersect, setdiff, setequal, union\n",
            "\n",
            "\n"
          ]
        }
      ]
    },
    {
      "cell_type": "markdown",
      "source": [
        "In the previous sections, we've introduced you to the power of `stats` and `ggplot2` packages in R. Now, let's expand our data manipulation toolkit with the versatile `dplyr` package. It is an integral part of the tidyverse ecosystem in R and stands for \"Data Manipulation in R.\" Renowned for its robustness and intuitiveness, `dplyr` is a favorite amongst statisticians and data scientists."
      ],
      "metadata": {
        "id": "_CKfoPUrej1V"
      }
    },
    {
      "cell_type": "markdown",
      "source": [
        "Here are a few key 'dplyr' functions we'll be using:\n",
        "\n",
        "*   `select()`: This function helps us to keep only a subset of the many columns that may be present in a dataframe. It's a neat way to focus on only the data you're interested in.\n",
        "*   `filter()`: As the name suggests, `filter()` allows you to filter the rows of a dataframe that meet certain conditions. This can be extremely useful in focusing on specific data points.\n",
        "*   `%>%`, known as the pipe operator: This operator is perhaps one of the most empowering features of `dplyr`. The `%>%` operator works by taking the result of the left-hand side operation and 'piping' it as the first argument to the function on the right-hand side. It's like saying, \"Take this, then do this.\" Here's a simple illustration:"
      ],
      "metadata": {
        "id": "eTyvrai5kFjk"
      }
    },
    {
      "cell_type": "code",
      "source": [
        "# Without pipe operator\n",
        "mean(c(1, 2, 3, 4, 5))\n",
        "\n",
        "# With pipe operator\n",
        "c(1, 2, 3, 4, 5) %>% mean()"
      ],
      "metadata": {
        "id": "wiTNOrabkYb1",
        "colab": {
          "base_uri": "https://localhost:8080/",
          "height": 52
        },
        "outputId": "2ac78df1-ed2f-430f-d71e-7d0b94b9a92b"
      },
      "execution_count": null,
      "outputs": [
        {
          "output_type": "display_data",
          "data": {
            "text/html": [
              "3"
            ],
            "text/markdown": "3",
            "text/latex": "3",
            "text/plain": [
              "[1] 3"
            ]
          },
          "metadata": {}
        },
        {
          "output_type": "display_data",
          "data": {
            "text/html": [
              "3"
            ],
            "text/markdown": "3",
            "text/latex": "3",
            "text/plain": [
              "[1] 3"
            ]
          },
          "metadata": {}
        }
      ]
    },
    {
      "cell_type": "markdown",
      "source": [
        "In both cases, we're calculating the mean of the vector, but using the pipe operator makes the flow of operations more natural and easier to read. As we work with more complex and chained operations, the utility of `%>%` becomes even more pronounced."
      ],
      "metadata": {
        "id": "mh5ag4r1kdfm"
      }
    },
    {
      "cell_type": "markdown",
      "source": [
        "The `select()` function is handy when we want to choose specific columns from a dataframe. For instance, if we have a dataframe with columns \"Name\", \"Age\", \"Gender\", and \"Salary\", and we're only interested in the \"Name\" and \"Age\" columns, `select()` can help us obtain just that."
      ],
      "metadata": {
        "id": "oZdxzIYjMw35"
      }
    },
    {
      "cell_type": "code",
      "source": [
        "# Sample data\n",
        "df <- data.frame(Name = c(\"Alice\", \"Bob\", \"Charlie\"),\n",
        "                 Age = c(25, 30, 35),\n",
        "                 Gender = c(\"Female\", \"Male\", \"Male\"),\n",
        "                 Salary = c(50000, 55000, 60000))\n",
        "\n",
        "# Using select() to retrieve only the Name and Age columns\n",
        "selected_data <- df %>% select(Name, Age)\n",
        "print(selected_data)\n"
      ],
      "metadata": {
        "colab": {
          "base_uri": "https://localhost:8080/"
        },
        "id": "VZ8_85H8Mz4V",
        "outputId": "d7c8c0c9-574d-48b9-d01e-b2625762ccf5"
      },
      "execution_count": null,
      "outputs": [
        {
          "output_type": "stream",
          "name": "stdout",
          "text": [
            "     Name Age\n",
            "1   Alice  25\n",
            "2     Bob  30\n",
            "3 Charlie  35\n"
          ]
        }
      ]
    },
    {
      "cell_type": "markdown",
      "source": [
        "The `filter()` function is beneficial when we want to choose rows in a dataframe that satisfy certain conditions. Suppose we're interested in rows where \"Age\" is greater than 30 from the same dataframe. Here's how you can achieve that using `filter()`:"
      ],
      "metadata": {
        "id": "hdxT4Tt5M8Kh"
      }
    },
    {
      "cell_type": "code",
      "source": [
        "# Using filter() to retrieve rows where Age is greater than 30\n",
        "filtered_data <- df %>% filter(Age > 30)\n",
        "print(filtered_data)\n"
      ],
      "metadata": {
        "colab": {
          "base_uri": "https://localhost:8080/"
        },
        "id": "SXDuL-ByM-8I",
        "outputId": "90276c74-c871-4f36-9358-eb2408259770"
      },
      "execution_count": null,
      "outputs": [
        {
          "output_type": "stream",
          "name": "stdout",
          "text": [
            "     Name Age Gender Salary\n",
            "1 Charlie  35   Male  60000\n"
          ]
        }
      ]
    },
    {
      "cell_type": "markdown",
      "source": [
        "Now, let's delve into the real data analysis part and see how these functions can be employed in our data exploration and interpretation journey."
      ],
      "metadata": {
        "id": "zKDAioiLMmAt"
      }
    },
    {
      "cell_type": "code",
      "source": [
        "# Load the dataset\n",
        "titanic <- read.csv('train_and_test2.csv')"
      ],
      "metadata": {
        "id": "_Uy6Oa8ROMiS"
      },
      "execution_count": null,
      "outputs": []
    },
    {
      "cell_type": "markdown",
      "source": [
        "The `head()` function can be used to preview the initial rows of our dataset."
      ],
      "metadata": {
        "id": "inpxvG-XOmfT"
      }
    },
    {
      "cell_type": "code",
      "source": [
        "# Preview the initial rows of the dataset\n",
        "head(titanic)"
      ],
      "metadata": {
        "colab": {
          "base_uri": "https://localhost:8080/",
          "height": 306
        },
        "id": "fcChfAsMOrZO",
        "outputId": "89551c1b-598c-44ac-e204-01a16444e442"
      },
      "execution_count": null,
      "outputs": [
        {
          "output_type": "display_data",
          "data": {
            "text/html": [
              "<table class=\"dataframe\">\n",
              "<caption>A data.frame: 6 × 28</caption>\n",
              "<thead>\n",
              "\t<tr><th></th><th scope=col>Passengerid</th><th scope=col>Age</th><th scope=col>Fare</th><th scope=col>Sex</th><th scope=col>sibsp</th><th scope=col>zero</th><th scope=col>zero.1</th><th scope=col>zero.2</th><th scope=col>zero.3</th><th scope=col>zero.4</th><th scope=col>⋯</th><th scope=col>zero.12</th><th scope=col>zero.13</th><th scope=col>zero.14</th><th scope=col>Pclass</th><th scope=col>zero.15</th><th scope=col>zero.16</th><th scope=col>Embarked</th><th scope=col>zero.17</th><th scope=col>zero.18</th><th scope=col>X2urvived</th></tr>\n",
              "\t<tr><th></th><th scope=col>&lt;int&gt;</th><th scope=col>&lt;dbl&gt;</th><th scope=col>&lt;dbl&gt;</th><th scope=col>&lt;int&gt;</th><th scope=col>&lt;int&gt;</th><th scope=col>&lt;int&gt;</th><th scope=col>&lt;int&gt;</th><th scope=col>&lt;int&gt;</th><th scope=col>&lt;int&gt;</th><th scope=col>&lt;int&gt;</th><th scope=col>⋯</th><th scope=col>&lt;int&gt;</th><th scope=col>&lt;int&gt;</th><th scope=col>&lt;int&gt;</th><th scope=col>&lt;int&gt;</th><th scope=col>&lt;int&gt;</th><th scope=col>&lt;int&gt;</th><th scope=col>&lt;int&gt;</th><th scope=col>&lt;int&gt;</th><th scope=col>&lt;int&gt;</th><th scope=col>&lt;int&gt;</th></tr>\n",
              "</thead>\n",
              "<tbody>\n",
              "\t<tr><th scope=row>1</th><td>1</td><td>22</td><td> 7.2500</td><td>0</td><td>1</td><td>0</td><td>0</td><td>0</td><td>0</td><td>0</td><td>⋯</td><td>0</td><td>0</td><td>0</td><td>3</td><td>0</td><td>0</td><td>2</td><td>0</td><td>0</td><td>0</td></tr>\n",
              "\t<tr><th scope=row>2</th><td>2</td><td>38</td><td>71.2833</td><td>1</td><td>1</td><td>0</td><td>0</td><td>0</td><td>0</td><td>0</td><td>⋯</td><td>0</td><td>0</td><td>0</td><td>1</td><td>0</td><td>0</td><td>0</td><td>0</td><td>0</td><td>1</td></tr>\n",
              "\t<tr><th scope=row>3</th><td>3</td><td>26</td><td> 7.9250</td><td>1</td><td>0</td><td>0</td><td>0</td><td>0</td><td>0</td><td>0</td><td>⋯</td><td>0</td><td>0</td><td>0</td><td>3</td><td>0</td><td>0</td><td>2</td><td>0</td><td>0</td><td>1</td></tr>\n",
              "\t<tr><th scope=row>4</th><td>4</td><td>35</td><td>53.1000</td><td>1</td><td>1</td><td>0</td><td>0</td><td>0</td><td>0</td><td>0</td><td>⋯</td><td>0</td><td>0</td><td>0</td><td>1</td><td>0</td><td>0</td><td>2</td><td>0</td><td>0</td><td>1</td></tr>\n",
              "\t<tr><th scope=row>5</th><td>5</td><td>35</td><td> 8.0500</td><td>0</td><td>0</td><td>0</td><td>0</td><td>0</td><td>0</td><td>0</td><td>⋯</td><td>0</td><td>0</td><td>0</td><td>3</td><td>0</td><td>0</td><td>2</td><td>0</td><td>0</td><td>0</td></tr>\n",
              "\t<tr><th scope=row>6</th><td>6</td><td>28</td><td> 8.4583</td><td>0</td><td>0</td><td>0</td><td>0</td><td>0</td><td>0</td><td>0</td><td>⋯</td><td>0</td><td>0</td><td>0</td><td>3</td><td>0</td><td>0</td><td>1</td><td>0</td><td>0</td><td>0</td></tr>\n",
              "</tbody>\n",
              "</table>\n"
            ],
            "text/markdown": "\nA data.frame: 6 × 28\n\n| <!--/--> | Passengerid &lt;int&gt; | Age &lt;dbl&gt; | Fare &lt;dbl&gt; | Sex &lt;int&gt; | sibsp &lt;int&gt; | zero &lt;int&gt; | zero.1 &lt;int&gt; | zero.2 &lt;int&gt; | zero.3 &lt;int&gt; | zero.4 &lt;int&gt; | ⋯ ⋯ | zero.12 &lt;int&gt; | zero.13 &lt;int&gt; | zero.14 &lt;int&gt; | Pclass &lt;int&gt; | zero.15 &lt;int&gt; | zero.16 &lt;int&gt; | Embarked &lt;int&gt; | zero.17 &lt;int&gt; | zero.18 &lt;int&gt; | X2urvived &lt;int&gt; |\n|---|---|---|---|---|---|---|---|---|---|---|---|---|---|---|---|---|---|---|---|---|---|\n| 1 | 1 | 22 |  7.2500 | 0 | 1 | 0 | 0 | 0 | 0 | 0 | ⋯ | 0 | 0 | 0 | 3 | 0 | 0 | 2 | 0 | 0 | 0 |\n| 2 | 2 | 38 | 71.2833 | 1 | 1 | 0 | 0 | 0 | 0 | 0 | ⋯ | 0 | 0 | 0 | 1 | 0 | 0 | 0 | 0 | 0 | 1 |\n| 3 | 3 | 26 |  7.9250 | 1 | 0 | 0 | 0 | 0 | 0 | 0 | ⋯ | 0 | 0 | 0 | 3 | 0 | 0 | 2 | 0 | 0 | 1 |\n| 4 | 4 | 35 | 53.1000 | 1 | 1 | 0 | 0 | 0 | 0 | 0 | ⋯ | 0 | 0 | 0 | 1 | 0 | 0 | 2 | 0 | 0 | 1 |\n| 5 | 5 | 35 |  8.0500 | 0 | 0 | 0 | 0 | 0 | 0 | 0 | ⋯ | 0 | 0 | 0 | 3 | 0 | 0 | 2 | 0 | 0 | 0 |\n| 6 | 6 | 28 |  8.4583 | 0 | 0 | 0 | 0 | 0 | 0 | 0 | ⋯ | 0 | 0 | 0 | 3 | 0 | 0 | 1 | 0 | 0 | 0 |\n\n",
            "text/latex": "A data.frame: 6 × 28\n\\begin{tabular}{r|lllllllllllllllllllll}\n  & Passengerid & Age & Fare & Sex & sibsp & zero & zero.1 & zero.2 & zero.3 & zero.4 & ⋯ & zero.12 & zero.13 & zero.14 & Pclass & zero.15 & zero.16 & Embarked & zero.17 & zero.18 & X2urvived\\\\\n  & <int> & <dbl> & <dbl> & <int> & <int> & <int> & <int> & <int> & <int> & <int> & ⋯ & <int> & <int> & <int> & <int> & <int> & <int> & <int> & <int> & <int> & <int>\\\\\n\\hline\n\t1 & 1 & 22 &  7.2500 & 0 & 1 & 0 & 0 & 0 & 0 & 0 & ⋯ & 0 & 0 & 0 & 3 & 0 & 0 & 2 & 0 & 0 & 0\\\\\n\t2 & 2 & 38 & 71.2833 & 1 & 1 & 0 & 0 & 0 & 0 & 0 & ⋯ & 0 & 0 & 0 & 1 & 0 & 0 & 0 & 0 & 0 & 1\\\\\n\t3 & 3 & 26 &  7.9250 & 1 & 0 & 0 & 0 & 0 & 0 & 0 & ⋯ & 0 & 0 & 0 & 3 & 0 & 0 & 2 & 0 & 0 & 1\\\\\n\t4 & 4 & 35 & 53.1000 & 1 & 1 & 0 & 0 & 0 & 0 & 0 & ⋯ & 0 & 0 & 0 & 1 & 0 & 0 & 2 & 0 & 0 & 1\\\\\n\t5 & 5 & 35 &  8.0500 & 0 & 0 & 0 & 0 & 0 & 0 & 0 & ⋯ & 0 & 0 & 0 & 3 & 0 & 0 & 2 & 0 & 0 & 0\\\\\n\t6 & 6 & 28 &  8.4583 & 0 & 0 & 0 & 0 & 0 & 0 & 0 & ⋯ & 0 & 0 & 0 & 3 & 0 & 0 & 1 & 0 & 0 & 0\\\\\n\\end{tabular}\n",
            "text/plain": [
              "  Passengerid Age Fare    Sex sibsp zero zero.1 zero.2 zero.3 zero.4 ⋯ zero.12\n",
              "1 1           22   7.2500 0   1     0    0      0      0      0      ⋯ 0      \n",
              "2 2           38  71.2833 1   1     0    0      0      0      0      ⋯ 0      \n",
              "3 3           26   7.9250 1   0     0    0      0      0      0      ⋯ 0      \n",
              "4 4           35  53.1000 1   1     0    0      0      0      0      ⋯ 0      \n",
              "5 5           35   8.0500 0   0     0    0      0      0      0      ⋯ 0      \n",
              "6 6           28   8.4583 0   0     0    0      0      0      0      ⋯ 0      \n",
              "  zero.13 zero.14 Pclass zero.15 zero.16 Embarked zero.17 zero.18 X2urvived\n",
              "1 0       0       3      0       0       2        0       0       0        \n",
              "2 0       0       1      0       0       0        0       0       1        \n",
              "3 0       0       3      0       0       2        0       0       1        \n",
              "4 0       0       1      0       0       2        0       0       1        \n",
              "5 0       0       3      0       0       2        0       0       0        \n",
              "6 0       0       3      0       0       1        0       0       0        "
            ]
          },
          "metadata": {}
        }
      ]
    },
    {
      "cell_type": "markdown",
      "source": [
        "To know the total number of observations or rows in the dataset, we use the `nrow()` function."
      ],
      "metadata": {
        "id": "offwThyGO3os"
      }
    },
    {
      "cell_type": "code",
      "source": [
        "# Get total number of rows in the dataset\n",
        "nrow(titanic)"
      ],
      "metadata": {
        "colab": {
          "base_uri": "https://localhost:8080/",
          "height": 34
        },
        "id": "80W-dbLGO62B",
        "outputId": "51d1bb3b-4aa2-4d1d-edb0-c7d53a67d69e"
      },
      "execution_count": null,
      "outputs": [
        {
          "output_type": "display_data",
          "data": {
            "text/html": [
              "1309"
            ],
            "text/markdown": "1309",
            "text/latex": "1309",
            "text/plain": [
              "[1] 1309"
            ]
          },
          "metadata": {}
        }
      ]
    },
    {
      "cell_type": "markdown",
      "source": [
        "While the Titanic dataset comes with a wealth of information, not every variable might be relevant for our specific analysis. Moreover, some variable names, such as 'X2urvived' and 'Pclass', may not immediately convey their meaning, which can lead to confusion during the data exploration and modeling processes. Therefore, data cleaning - the process of preparing and refining data for analysis - is an indispensable step in any data-related project.\n",
        "\n",
        "To ensure our dataset is clean and ready for further investigation, we'll start by selecting only the variables we need - 'Age', 'Sex', 'Pclass', and 'X2urvived'. Simultaneously, we'll rename these variables to more intuitive terms such as 'Age', 'Sex', 'Passenger_Class', and 'Survival_Status'. By performing these steps, we make our dataset more understandable, setting the stage for a smoother and more effective analysis."
      ],
      "metadata": {
        "id": "_bWlH6BhO9f3"
      }
    },
    {
      "cell_type": "code",
      "source": [
        "# Clean and select variables from the dataset\n",
        "titanic_cleaned <- titanic %>%\n",
        "  rename(Age = Age, Sex = Sex, Class = Pclass, Survived = X2urvived) %>%\n",
        "  select(Age, Sex, Class, Survived)\n"
      ],
      "metadata": {
        "id": "rIN3puz4PoQk"
      },
      "execution_count": null,
      "outputs": []
    },
    {
      "cell_type": "code",
      "source": [
        "# View the dataset after variable selection\n",
        "head(titanic_cleaned)"
      ],
      "metadata": {
        "colab": {
          "base_uri": "https://localhost:8080/",
          "height": 286
        },
        "id": "gYJfWladlQhg",
        "outputId": "916d363a-587e-43fb-f3e8-e3a8c3443871"
      },
      "execution_count": null,
      "outputs": [
        {
          "output_type": "display_data",
          "data": {
            "text/html": [
              "<table class=\"dataframe\">\n",
              "<caption>A data.frame: 6 × 4</caption>\n",
              "<thead>\n",
              "\t<tr><th></th><th scope=col>Age</th><th scope=col>Sex</th><th scope=col>Class</th><th scope=col>Survived</th></tr>\n",
              "\t<tr><th></th><th scope=col>&lt;dbl&gt;</th><th scope=col>&lt;int&gt;</th><th scope=col>&lt;int&gt;</th><th scope=col>&lt;int&gt;</th></tr>\n",
              "</thead>\n",
              "<tbody>\n",
              "\t<tr><th scope=row>1</th><td>22</td><td>0</td><td>3</td><td>0</td></tr>\n",
              "\t<tr><th scope=row>2</th><td>38</td><td>1</td><td>1</td><td>1</td></tr>\n",
              "\t<tr><th scope=row>3</th><td>26</td><td>1</td><td>3</td><td>1</td></tr>\n",
              "\t<tr><th scope=row>4</th><td>35</td><td>1</td><td>1</td><td>1</td></tr>\n",
              "\t<tr><th scope=row>5</th><td>35</td><td>0</td><td>3</td><td>0</td></tr>\n",
              "\t<tr><th scope=row>6</th><td>28</td><td>0</td><td>3</td><td>0</td></tr>\n",
              "</tbody>\n",
              "</table>\n"
            ],
            "text/markdown": "\nA data.frame: 6 × 4\n\n| <!--/--> | Age &lt;dbl&gt; | Sex &lt;int&gt; | Class &lt;int&gt; | Survived &lt;int&gt; |\n|---|---|---|---|---|\n| 1 | 22 | 0 | 3 | 0 |\n| 2 | 38 | 1 | 1 | 1 |\n| 3 | 26 | 1 | 3 | 1 |\n| 4 | 35 | 1 | 1 | 1 |\n| 5 | 35 | 0 | 3 | 0 |\n| 6 | 28 | 0 | 3 | 0 |\n\n",
            "text/latex": "A data.frame: 6 × 4\n\\begin{tabular}{r|llll}\n  & Age & Sex & Class & Survived\\\\\n  & <dbl> & <int> & <int> & <int>\\\\\n\\hline\n\t1 & 22 & 0 & 3 & 0\\\\\n\t2 & 38 & 1 & 1 & 1\\\\\n\t3 & 26 & 1 & 3 & 1\\\\\n\t4 & 35 & 1 & 1 & 1\\\\\n\t5 & 35 & 0 & 3 & 0\\\\\n\t6 & 28 & 0 & 3 & 0\\\\\n\\end{tabular}\n",
            "text/plain": [
              "  Age Sex Class Survived\n",
              "1 22  0   3     0       \n",
              "2 38  1   1     1       \n",
              "3 26  1   3     1       \n",
              "4 35  1   1     1       \n",
              "5 35  0   3     0       \n",
              "6 28  0   3     0       "
            ]
          },
          "metadata": {}
        }
      ]
    },
    {
      "cell_type": "markdown",
      "source": [
        "Our newly refined dataset now features a more understandable layout. Here, 'Survived' is our target variable indicating the passenger's survival status, where 0 = No, 1 = Yes. 'Class' stands for the ticket class of the passenger. 'Sex' is a binary variable where 0 = Male and 1 = Female."
      ],
      "metadata": {
        "id": "74i4eP7le-EL"
      }
    },
    {
      "cell_type": "markdown",
      "source": [
        "With the `unique()` function, we can determine the unique values present in the 'Sex' column."
      ],
      "metadata": {
        "id": "uVO7gPxDQbCH"
      }
    },
    {
      "cell_type": "code",
      "source": [
        "# Display unique values in the 'Sex' column\n",
        "unique(titanic_cleaned$Sex)"
      ],
      "metadata": {
        "colab": {
          "base_uri": "https://localhost:8080/",
          "height": 34
        },
        "id": "c0iaKSKFQaFS",
        "outputId": "173ddbeb-963a-4914-eb04-36739762afd3"
      },
      "execution_count": null,
      "outputs": [
        {
          "output_type": "display_data",
          "data": {
            "text/html": [
              "<style>\n",
              ".list-inline {list-style: none; margin:0; padding: 0}\n",
              ".list-inline>li {display: inline-block}\n",
              ".list-inline>li:not(:last-child)::after {content: \"\\00b7\"; padding: 0 .5ex}\n",
              "</style>\n",
              "<ol class=list-inline><li>0</li><li>1</li></ol>\n"
            ],
            "text/markdown": "1. 0\n2. 1\n\n\n",
            "text/latex": "\\begin{enumerate*}\n\\item 0\n\\item 1\n\\end{enumerate*}\n",
            "text/plain": [
              "[1] 0 1"
            ]
          },
          "metadata": {}
        }
      ]
    },
    {
      "cell_type": "markdown",
      "source": [
        "Recall that the `$` operator allows us to access specific columns in our dataframe. Here, `titanic_cleaned$Sex` allows us to access the 'Sex' column in our titanic_cleaned dataframe."
      ],
      "metadata": {
        "id": "CpaxGntYfcTn"
      }
    },
    {
      "cell_type": "markdown",
      "source": [
        "The `table()` function helps us understand the distribution of observations in each 'Sex' group."
      ],
      "metadata": {
        "id": "b6FLmuzwQnPe"
      }
    },
    {
      "cell_type": "code",
      "source": [
        "# Display number of observations for each gender\n",
        "table(titanic_cleaned$Sex)"
      ],
      "metadata": {
        "colab": {
          "base_uri": "https://localhost:8080/",
          "height": 71
        },
        "id": "uoUEnNZbQwiW",
        "outputId": "359faa3c-1858-405f-a352-015020f68cc4"
      },
      "execution_count": null,
      "outputs": [
        {
          "output_type": "display_data",
          "data": {
            "text/plain": [
              "\n",
              "  0   1 \n",
              "843 466 "
            ]
          },
          "metadata": {}
        }
      ]
    },
    {
      "cell_type": "markdown",
      "source": [
        "Let's visualize this information for a more intuitive understanding. We'll create a stacked bar plot to display the number of survivors in each 'Sex' group."
      ],
      "metadata": {
        "id": "Jax9yyaAR8UF"
      }
    },
    {
      "cell_type": "code",
      "source": [
        "# Create the plot\n",
        "ggplot(titanic_cleaned, aes(x = factor(Sex, labels = c(\"Male\", \"Female\")), fill = as.factor(Survived))) +\n",
        "  geom_bar(position = \"stack\") +\n",
        "  labs(x = \"Sex\", y = \"Count\", fill = \"Survived\")+\n",
        "  scale_fill_discrete(labels = c(\"No\", \"Yes\"), name = \"Survived\") # Change the labels of Survived to ‘Yes’ and ‘No’\n"
      ],
      "metadata": {
        "colab": {
          "base_uri": "https://localhost:8080/",
          "height": 437
        },
        "id": "ugeojLUnR-0t",
        "outputId": "6df2ad93-8b21-46e1-9a63-996e0376b468"
      },
      "execution_count": null,
      "outputs": [
        {
          "output_type": "display_data",
          "data": {
            "text/plain": [
              "plot without title"
            ],
            "image/png": "[encoded data removed]"
          },
          "metadata": {
            "image/png": {
              "width": 420,
              "height": 420
            }
          }
        }
      ]
    },
    {
      "cell_type": "markdown",
      "source": [
        "The code above produces a stacked bar plot depicting the count of survivors based on gender in our refined Titanic dataset. Here's how it works:\n",
        "\n",
        "*   `factor(Sex, labels = c(\"Male\", \"Female\"))`: The factor function is used to change the levels of the 'Sex' variable. In our dataset, 'Sex' is encoded as 0 for male and 1 for female. With this function, we replace these 0s and 1s with more meaningful labels: \"Male\" and \"Female\". This will make our plot more readable.\n",
        "*   `fill = as.factor(Survived)`: Here, we're telling ggplot to fill the bars of our plot based on the 'Survived' variable. We also use the as.factor function to convert 'Survived', which is encoded as integers (0 for No, 1 for Yes), to a factor variable. This means that 'ggplot' will treat it as a categorical variable, with different colours for each category.\n",
        "*   `position = \"stack\"`: This is an argument to `geom_bar` that tells ggplot how to position the bars. In our case, we want a stacked bar plot, which means we want the bars for different 'Survived' categories (Yes and No) to be stacked on top of each other."
      ],
      "metadata": {
        "id": "4TmBvIdRqdAC"
      }
    },
    {
      "cell_type": "markdown",
      "source": [
        "We can now build a simple logistic regression model to predict the survival status based on 'Sex', 'Age', and 'Pclass'. Let's create this model using the `glm()` function."
      ],
      "metadata": {
        "id": "R-yzsIqSSSLe"
      }
    },
    {
      "cell_type": "code",
      "source": [
        "# Fit the model\n",
        "model <- glm(Survived ~ Sex + Age + Class, data = titanic_cleaned, family = binomial())"
      ],
      "metadata": {
        "id": "zQ45T2HcSZIc"
      },
      "execution_count": null,
      "outputs": []
    },
    {
      "cell_type": "markdown",
      "source": [
        "To quantify the relationship we observe. We can also see details of the model by calling the `summary()` function."
      ],
      "metadata": {
        "id": "1qhjt8XFC82R"
      }
    },
    {
      "cell_type": "code",
      "source": [
        "# Print the summary of the model\n",
        "summary(model)"
      ],
      "metadata": {
        "id": "ky2RvjScgTrI"
      },
      "execution_count": null,
      "outputs": []
    },
    {
      "cell_type": "markdown",
      "source": [
        "While the output may initially appear complex, there's no need for concern! We'll be delving into how to interpret these model summary tables in later parts of this course. So, stay tuned and all will become clear in time."
      ],
      "metadata": {
        "id": "8xXOBewigWBR"
      }
    }
  ]
}